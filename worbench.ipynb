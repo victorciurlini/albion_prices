{
 "cells": [
  {
   "cell_type": "code",
   "execution_count": 48,
   "metadata": {},
   "outputs": [
    {
     "ename": "ImportError",
     "evalue": "cannot import name 'ingest_data' from 'modulos.conecta_db' (c:\\Users\\victo.000\\Documents\\python\\albion_prices\\modulos\\conecta_db.py)",
     "output_type": "error",
     "traceback": [
      "\u001b[1;31m---------------------------------------------------------------------------\u001b[0m",
      "\u001b[1;31mImportError\u001b[0m                               Traceback (most recent call last)",
      "\u001b[1;32mc:\\Users\\victo.000\\Documents\\python\\albion_prices\\worbench.ipynb Célula: 1\u001b[0m in \u001b[0;36m<cell line: 8>\u001b[1;34m()\u001b[0m\n\u001b[0;32m      <a href='vscode-notebook-cell:/c%3A/Users/victo.000/Documents/python/albion_prices/worbench.ipynb#W0sZmlsZQ%3D%3D?line=5'>6</a>\u001b[0m \u001b[39mimport\u001b[39;00m \u001b[39msys\u001b[39;00m\n\u001b[0;32m      <a href='vscode-notebook-cell:/c%3A/Users/victo.000/Documents/python/albion_prices/worbench.ipynb#W0sZmlsZQ%3D%3D?line=6'>7</a>\u001b[0m \u001b[39mfrom\u001b[39;00m \u001b[39mdatetime\u001b[39;00m \u001b[39mimport\u001b[39;00m datetime, timedelta\n\u001b[1;32m----> <a href='vscode-notebook-cell:/c%3A/Users/victo.000/Documents/python/albion_prices/worbench.ipynb#W0sZmlsZQ%3D%3D?line=7'>8</a>\u001b[0m \u001b[39mfrom\u001b[39;00m \u001b[39mmodulos\u001b[39;00m\u001b[39m.\u001b[39;00m\u001b[39mconecta_db\u001b[39;00m \u001b[39mimport\u001b[39;00m connect_db, ingest_data\n\u001b[0;32m      <a href='vscode-notebook-cell:/c%3A/Users/victo.000/Documents/python/albion_prices/worbench.ipynb#W0sZmlsZQ%3D%3D?line=8'>9</a>\u001b[0m \u001b[39mfrom\u001b[39;00m \u001b[39mmodulos\u001b[39;00m\u001b[39m.\u001b[39;00m\u001b[39mcrawler\u001b[39;00m \u001b[39mimport\u001b[39;00m get_response\n\u001b[0;32m     <a href='vscode-notebook-cell:/c%3A/Users/victo.000/Documents/python/albion_prices/worbench.ipynb#W0sZmlsZQ%3D%3D?line=9'>10</a>\u001b[0m \u001b[39mfrom\u001b[39;00m \u001b[39mmodulos\u001b[39;00m\u001b[39m.\u001b[39;00m\u001b[39mdata_processing\u001b[39;00m \u001b[39mimport\u001b[39;00m create_df, cities_and_itens, get_urls\n",
      "\u001b[1;31mImportError\u001b[0m: cannot import name 'ingest_data' from 'modulos.conecta_db' (c:\\Users\\victo.000\\Documents\\python\\albion_prices\\modulos\\conecta_db.py)"
     ]
    }
   ],
   "source": [
    "import pandas as pd\n",
    "import requests\n",
    "import ast\n",
    "import mariadb\n",
    "from logger.Logger import etlLogger\n",
    "import sys\n",
    "from datetime import datetime, timedelta\n",
    "from modulos.conecta_db import connect_db, ingest_data\n",
    "from modulos.crawler import get_response\n",
    "from modulos.data_processing import create_df, cities_and_itens, get_urls"
   ]
  },
  {
   "cell_type": "code",
   "execution_count": 2,
   "metadata": {},
   "outputs": [],
   "source": [
    "dt_today = datetime.now()\n",
    "dt_tomorrow = datetime.now() + timedelta(days=1)\n",
    "str_date_today = dt_today.strftime(\"%m-%d-%Y\")\n",
    "str_date_tomorrow = dt_tomorrow.strftime(\"%m-%d-%Y\")"
   ]
  },
  {
   "cell_type": "code",
   "execution_count": 3,
   "metadata": {},
   "outputs": [
    {
     "data": {
      "text/plain": [
       "'https://www.albion-online-data.com/api/v2/stats/gold?date=08-24-2022&end_date=08-25-2022'"
      ]
     },
     "execution_count": 3,
     "metadata": {},
     "output_type": "execute_result"
    }
   ],
   "source": [
    "URL = f\"https://www.albion-online-data.com/api/v2/stats/gold?date={str_date_today}&end_date={str_date_tomorrow}\"\n",
    "URL"
   ]
  },
  {
   "cell_type": "code",
   "execution_count": 4,
   "metadata": {},
   "outputs": [],
   "source": [
    "try:\n",
    "    conn = mariadb.connect(\n",
    "        user=\"ciurlini\",\n",
    "        password=\"casa2406\",\n",
    "        host=\"localhost\",\n",
    "        port=3306,\n",
    "        database=\"ALBION\"\n",
    "\n",
    "    )\n",
    "except mariadb.Error as e:\n",
    "    print(f\"Error connecting to MariaDB Platform: {e}\")\n",
    "    sys.exit(1)\n",
    "\n",
    "# Get Cursor\n",
    "cur = conn.cursor()"
   ]
  },
  {
   "cell_type": "code",
   "execution_count": 5,
   "metadata": {},
   "outputs": [],
   "source": [
    "response = requests.get(URL)\n",
    "content = response.content\n",
    "content_string = content.decode('UTF-8')\n",
    "content_list = ast.literal_eval(content_string)"
   ]
  },
  {
   "cell_type": "code",
   "execution_count": 6,
   "metadata": {},
   "outputs": [],
   "source": [
    "df_index = pd.DataFrame(content_list)\n",
    "df_index = df_index[['timestamp', 'price']]\n",
    "df_index[['timestamp']] = df_index[['timestamp']].apply(pd.to_datetime)"
   ]
  },
  {
   "cell_type": "code",
   "execution_count": 7,
   "metadata": {},
   "outputs": [
    {
     "name": "stderr",
     "output_type": "stream",
     "text": [
      "c:\\Users\\victo.000\\Documents\\python\\albion_prices\\.pyenv\\lib\\site-packages\\pandas\\io\\sql.py:761: UserWarning: pandas only support SQLAlchemy connectable(engine/connection) ordatabase string URI or sqlite3 DBAPI2 connectionother DBAPI2 objects are not tested, please consider using SQLAlchemy\n",
      "  warnings.warn(\n"
     ]
    }
   ],
   "source": [
    "df_dbmaria = pd.read_sql(\n",
    "    \"SELECT  * FROM ALBION.gold_prices\", conn)"
   ]
  },
  {
   "cell_type": "code",
   "execution_count": 8,
   "metadata": {},
   "outputs": [],
   "source": [
    "df_diff = pd.concat([df_dbmaria,df_index]).drop_duplicates(keep=False)"
   ]
  },
  {
   "cell_type": "code",
   "execution_count": 9,
   "metadata": {},
   "outputs": [
    {
     "data": {
      "text/html": [
       "<div>\n",
       "<style scoped>\n",
       "    .dataframe tbody tr th:only-of-type {\n",
       "        vertical-align: middle;\n",
       "    }\n",
       "\n",
       "    .dataframe tbody tr th {\n",
       "        vertical-align: top;\n",
       "    }\n",
       "\n",
       "    .dataframe thead th {\n",
       "        text-align: right;\n",
       "    }\n",
       "</style>\n",
       "<table border=\"1\" class=\"dataframe\">\n",
       "  <thead>\n",
       "    <tr style=\"text-align: right;\">\n",
       "      <th></th>\n",
       "      <th>timestamp</th>\n",
       "      <th>price</th>\n",
       "    </tr>\n",
       "  </thead>\n",
       "  <tbody>\n",
       "  </tbody>\n",
       "</table>\n",
       "</div>"
      ],
      "text/plain": [
       "Empty DataFrame\n",
       "Columns: [timestamp, price]\n",
       "Index: []"
      ]
     },
     "execution_count": 9,
     "metadata": {},
     "output_type": "execute_result"
    }
   ],
   "source": [
    "df_diff"
   ]
  },
  {
   "cell_type": "code",
   "execution_count": 10,
   "metadata": {},
   "outputs": [],
   "source": [
    "df_ingest = df_diff.astype({'timestamp': str, 'price': int})"
   ]
  },
  {
   "cell_type": "code",
   "execution_count": 11,
   "metadata": {},
   "outputs": [],
   "source": [
    "cols = \"`,`\".join([str(i) for i in df_ingest.columns.tolist()])"
   ]
  },
  {
   "cell_type": "code",
   "execution_count": 12,
   "metadata": {},
   "outputs": [],
   "source": [
    "for i,row in df_ingest.iterrows():\n",
    "    sql = \"INSERT INTO `gold_prices` (`\" +cols + \"`) VALUES (\" + \"%s,\"*(len(row)-1) + \"%s)\"\n",
    "    cur.execute(sql, tuple(row))\n",
    "conn.commit()"
   ]
  },
  {
   "cell_type": "code",
   "execution_count": 13,
   "metadata": {},
   "outputs": [
    {
     "data": {
      "text/plain": [
       "0"
      ]
     },
     "execution_count": 13,
     "metadata": {},
     "output_type": "execute_result"
    }
   ],
   "source": [
    "len(df_ingest)"
   ]
  },
  {
   "cell_type": "code",
   "execution_count": 14,
   "metadata": {},
   "outputs": [],
   "source": [
    "list_of_cities = ['Bridgewatch', 'Caerleon', 'Lymhurst', 'Martlock', 'Thetford']\n",
    "with open('config/list_of_itens.txt') as f:\n",
    "    list_of_itens = [line.strip() for line in f.readlines()]\n",
    "cities = ','.join(list_of_cities)\n",
    "itens = ','.join(list_of_itens)"
   ]
  },
  {
   "cell_type": "code",
   "execution_count": 55,
   "metadata": {},
   "outputs": [],
   "source": [
    "URL_ITEMS = f\"https://www.albion-online-data.com/api/v2/stats/history/{itens}?date=02-02-2022&end_date={str_date_tomorrow}&locations={cities}&qualities=1,2,3&time-scale=6\""
   ]
  },
  {
   "cell_type": "code",
   "execution_count": 17,
   "metadata": {},
   "outputs": [],
   "source": [
    "LOGGER_OBJ = etlLogger(project_name='item_predict')"
   ]
  },
  {
   "cell_type": "code",
   "execution_count": 56,
   "metadata": {},
   "outputs": [
    {
     "name": "stdout",
     "output_type": "stream",
     "text": [
      "{\"timestamp\": \"2022-08-24 20:35:35,781\", \"processo\": \"MainProcess\", \"thread\": \"MainThread\",\"level\": \"INFO\", \"script\": \"crawler.py\", \"modulo\": \"crawler\", \"metodo\": \"get_response\",  \"mensagem\": \"Realizando requisição: https://www.albion-online-data.com/api/v2/stats/history/T4_POTION_HEAL,T6_POTION_HEAL,T7_POTION_STONESKIN,T4_POTION_COOLDOWN,T6_POTION_COOLDOWN,T4_POTION_HEAL@1,T6_POTION_HEAL@1,T7_POTION_STONESKIN@1,T4_POTION_COOLDOWN@1,T6_POTION_COOLDOWN@1?date=02-02-2022&end_date=08-25-2022&locations=Bridgewatch,Caerleon,Lymhurst,Martlock,Thetford&qualities=1,2,3&time-scale=6\"}\n"
     ]
    }
   ],
   "source": [
    "content_list = get_response(URL_ITEMS, LOGGER_OBJ)"
   ]
  },
  {
   "cell_type": "code",
   "execution_count": 61,
   "metadata": {},
   "outputs": [
    {
     "data": {
      "text/plain": [
       "705"
      ]
     },
     "execution_count": 61,
     "metadata": {},
     "output_type": "execute_result"
    }
   ],
   "source": [
    "len(content_list[1]['data'])"
   ]
  },
  {
   "cell_type": "code",
   "execution_count": 62,
   "metadata": {},
   "outputs": [],
   "source": [
    "data_from_item = []\n",
    "for all_info in content_list:\n",
    "    data = all_info['data']\n",
    "    for item_info in data:\n",
    "        row_of_item = {'timestamp': item_info['timestamp'],\n",
    "               'item_id': all_info['item_id'],\n",
    "               'location': all_info['location'],\n",
    "               'item_count': item_info['item_count'],\n",
    "               'avg_price': item_info['avg_price']}\n",
    "    data_from_item.append(row_of_item)"
   ]
  },
  {
   "cell_type": "code",
   "execution_count": 63,
   "metadata": {},
   "outputs": [],
   "source": [
    "data_from_item = []\n",
    "for all_info in content_list:\n",
    "    data = all_info['data']\n",
    "    for item_info in data:\n",
    "        row_of_item = {'timestamp': item_info['timestamp'],\n",
    "        'item_id': all_info['item_id'],\n",
    "        'location': all_info['location'],\n",
    "        'item_count': item_info['item_count'],\n",
    "        'price': item_info['avg_price']}\n",
    "        data_from_item.append(row_of_item)"
   ]
  },
  {
   "cell_type": "code",
   "execution_count": 64,
   "metadata": {},
   "outputs": [],
   "source": [
    "df_ingest = pd.DataFrame(data_from_item)"
   ]
  },
  {
   "cell_type": "code",
   "execution_count": 65,
   "metadata": {},
   "outputs": [
    {
     "data": {
      "text/html": [
       "<div>\n",
       "<style scoped>\n",
       "    .dataframe tbody tr th:only-of-type {\n",
       "        vertical-align: middle;\n",
       "    }\n",
       "\n",
       "    .dataframe tbody tr th {\n",
       "        vertical-align: top;\n",
       "    }\n",
       "\n",
       "    .dataframe thead th {\n",
       "        text-align: right;\n",
       "    }\n",
       "</style>\n",
       "<table border=\"1\" class=\"dataframe\">\n",
       "  <thead>\n",
       "    <tr style=\"text-align: right;\">\n",
       "      <th></th>\n",
       "      <th>timestamp</th>\n",
       "      <th>item_id</th>\n",
       "      <th>location</th>\n",
       "      <th>item_count</th>\n",
       "      <th>price</th>\n",
       "    </tr>\n",
       "  </thead>\n",
       "  <tbody>\n",
       "    <tr>\n",
       "      <th>0</th>\n",
       "      <td>2022-02-02T00:00:00</td>\n",
       "      <td>T4_POTION_COOLDOWN</td>\n",
       "      <td>Bridgewatch</td>\n",
       "      <td>16002</td>\n",
       "      <td>752</td>\n",
       "    </tr>\n",
       "    <tr>\n",
       "      <th>1</th>\n",
       "      <td>2022-02-02T06:00:00</td>\n",
       "      <td>T4_POTION_COOLDOWN</td>\n",
       "      <td>Bridgewatch</td>\n",
       "      <td>18884</td>\n",
       "      <td>1613</td>\n",
       "    </tr>\n",
       "    <tr>\n",
       "      <th>2</th>\n",
       "      <td>2022-02-02T12:00:00</td>\n",
       "      <td>T4_POTION_COOLDOWN</td>\n",
       "      <td>Bridgewatch</td>\n",
       "      <td>31106</td>\n",
       "      <td>701</td>\n",
       "    </tr>\n",
       "    <tr>\n",
       "      <th>3</th>\n",
       "      <td>2022-02-02T18:00:00</td>\n",
       "      <td>T4_POTION_COOLDOWN</td>\n",
       "      <td>Bridgewatch</td>\n",
       "      <td>24371</td>\n",
       "      <td>712</td>\n",
       "    </tr>\n",
       "    <tr>\n",
       "      <th>4</th>\n",
       "      <td>2022-02-03T00:00:00</td>\n",
       "      <td>T4_POTION_COOLDOWN</td>\n",
       "      <td>Bridgewatch</td>\n",
       "      <td>15241</td>\n",
       "      <td>708</td>\n",
       "    </tr>\n",
       "    <tr>\n",
       "      <th>...</th>\n",
       "      <td>...</td>\n",
       "      <td>...</td>\n",
       "      <td>...</td>\n",
       "      <td>...</td>\n",
       "      <td>...</td>\n",
       "    </tr>\n",
       "    <tr>\n",
       "      <th>34969</th>\n",
       "      <td>2022-08-13T06:00:00</td>\n",
       "      <td>T7_POTION_STONESKIN@1</td>\n",
       "      <td>Thetford</td>\n",
       "      <td>107</td>\n",
       "      <td>59265</td>\n",
       "    </tr>\n",
       "    <tr>\n",
       "      <th>34970</th>\n",
       "      <td>2022-08-13T12:00:00</td>\n",
       "      <td>T7_POTION_STONESKIN@1</td>\n",
       "      <td>Thetford</td>\n",
       "      <td>244</td>\n",
       "      <td>56461</td>\n",
       "    </tr>\n",
       "    <tr>\n",
       "      <th>34971</th>\n",
       "      <td>2022-08-13T18:00:00</td>\n",
       "      <td>T7_POTION_STONESKIN@1</td>\n",
       "      <td>Thetford</td>\n",
       "      <td>184</td>\n",
       "      <td>54002</td>\n",
       "    </tr>\n",
       "    <tr>\n",
       "      <th>34972</th>\n",
       "      <td>2022-08-14T00:00:00</td>\n",
       "      <td>T7_POTION_STONESKIN@1</td>\n",
       "      <td>Thetford</td>\n",
       "      <td>61</td>\n",
       "      <td>53204</td>\n",
       "    </tr>\n",
       "    <tr>\n",
       "      <th>34973</th>\n",
       "      <td>2022-08-14T06:00:00</td>\n",
       "      <td>T7_POTION_STONESKIN@1</td>\n",
       "      <td>Thetford</td>\n",
       "      <td>79</td>\n",
       "      <td>45323</td>\n",
       "    </tr>\n",
       "  </tbody>\n",
       "</table>\n",
       "<p>34974 rows × 5 columns</p>\n",
       "</div>"
      ],
      "text/plain": [
       "                 timestamp                item_id     location  item_count  \\\n",
       "0      2022-02-02T00:00:00     T4_POTION_COOLDOWN  Bridgewatch       16002   \n",
       "1      2022-02-02T06:00:00     T4_POTION_COOLDOWN  Bridgewatch       18884   \n",
       "2      2022-02-02T12:00:00     T4_POTION_COOLDOWN  Bridgewatch       31106   \n",
       "3      2022-02-02T18:00:00     T4_POTION_COOLDOWN  Bridgewatch       24371   \n",
       "4      2022-02-03T00:00:00     T4_POTION_COOLDOWN  Bridgewatch       15241   \n",
       "...                    ...                    ...          ...         ...   \n",
       "34969  2022-08-13T06:00:00  T7_POTION_STONESKIN@1     Thetford         107   \n",
       "34970  2022-08-13T12:00:00  T7_POTION_STONESKIN@1     Thetford         244   \n",
       "34971  2022-08-13T18:00:00  T7_POTION_STONESKIN@1     Thetford         184   \n",
       "34972  2022-08-14T00:00:00  T7_POTION_STONESKIN@1     Thetford          61   \n",
       "34973  2022-08-14T06:00:00  T7_POTION_STONESKIN@1     Thetford          79   \n",
       "\n",
       "       price  \n",
       "0        752  \n",
       "1       1613  \n",
       "2        701  \n",
       "3        712  \n",
       "4        708  \n",
       "...      ...  \n",
       "34969  59265  \n",
       "34970  56461  \n",
       "34971  54002  \n",
       "34972  53204  \n",
       "34973  45323  \n",
       "\n",
       "[34974 rows x 5 columns]"
      ]
     },
     "execution_count": 65,
     "metadata": {},
     "output_type": "execute_result"
    }
   ],
   "source": [
    "df_ingest"
   ]
  },
  {
   "cell_type": "code",
   "execution_count": 66,
   "metadata": {},
   "outputs": [],
   "source": [
    "df_ingest[['timestamp']] = df_ingest[['timestamp']].apply(pd.to_datetime)"
   ]
  },
  {
   "cell_type": "code",
   "execution_count": 67,
   "metadata": {},
   "outputs": [],
   "source": [
    "df_ingest = df_ingest.astype({'timestamp': str, 'item_id': str, 'location': str, 'item_count': int, 'price': int})"
   ]
  },
  {
   "cell_type": "code",
   "execution_count": 69,
   "metadata": {},
   "outputs": [
    {
     "name": "stdout",
     "output_type": "stream",
     "text": [
      "{\"timestamp\": \"2022-08-24 20:41:49,292\", \"processo\": \"MainProcess\", \"thread\": \"MainThread\",\"level\": \"INFO\", \"script\": \"485929014.py\", \"modulo\": \"485929014\", \"metodo\": \"<cell line: 3>\",  \"mensagem\": \"Ingestão realizada com sucesso\"}\n"
     ]
    }
   ],
   "source": [
    "cols = \"`,`\".join([str(i) for i in df_ingest.columns.tolist()])\n",
    "\n",
    "try:\n",
    "    for i,row in df_ingest.iterrows():\n",
    "        sql = \"INSERT INTO `potion_prices` (`\" +cols + \"`) VALUES (\" + \"%s,\"*(len(row)-1) + \"%s)\"\n",
    "        cur.execute(sql, tuple(row))\n",
    "    conn.commit()\n",
    "    LOGGER_OBJ.info(\"Ingestão realizada com sucesso\")\n",
    "except Exception as e:\n",
    "    LOGGER_OBJ.error(f\"Falha ao realizar ingestão de dados: {e}\")"
   ]
  }
 ],
 "metadata": {
  "kernelspec": {
   "display_name": "Python 3.10.4 ('.pyenv': venv)",
   "language": "python",
   "name": "python3"
  },
  "language_info": {
   "codemirror_mode": {
    "name": "ipython",
    "version": 3
   },
   "file_extension": ".py",
   "mimetype": "text/x-python",
   "name": "python",
   "nbconvert_exporter": "python",
   "pygments_lexer": "ipython3",
   "version": "3.10.4"
  },
  "orig_nbformat": 4,
  "vscode": {
   "interpreter": {
    "hash": "57106f55f089d0ef42f32c2f68230fd7dda390989eba66b469f373f59c033607"
   }
  }
 },
 "nbformat": 4,
 "nbformat_minor": 2
}
