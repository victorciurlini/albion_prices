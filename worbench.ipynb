{
 "cells": [
  {
   "cell_type": "code",
   "execution_count": 3,
   "metadata": {},
   "outputs": [],
   "source": [
    "import pandas as pd\n",
    "import numpy as np\n",
    "import requests\n",
    "import ast\n",
    "import mariadb\n",
    "import sys\n",
    "import re\n",
    "from logger.Logger import etlLogger\n",
    "from datetime import datetime, timedelta\n",
    "from modulos.auxiliares import *\n",
    "from modulos.conecta_db import *\n",
    "from modulos.crawler import *\n",
    "from modulos.data_processing import *\n",
    "\n"
   ]
  },
  {
   "cell_type": "code",
   "execution_count": 6,
   "metadata": {},
   "outputs": [],
   "source": [
    "def connect_db(LOGGER_OBJ):\n",
    "    LOGGER_OBJ.info('Conectando ao banco de dados')\n",
    "    cred = read_yaml('config/config.yaml')\n",
    "    try:\n",
    "        conn = mariadb.connect(\n",
    "            user=cred['DB']['USER'],\n",
    "            password=cred['DB']['PSSWRD'],\n",
    "            host=\"localhost\",\n",
    "            port=3306,\n",
    "            database=\"ALBION\"\n",
    "        )\n",
    "        LOGGER_OBJ.info(\"Conexão estabelecida\")\n",
    "    except mariadb.Error as e:\n",
    "        LOGGER_OBJ.error(f\"Falha na conexão: {e}\")\n",
    "        sys.exit(1)\n",
    "\n",
    "    cur = conn.cursor()\n",
    "\n",
    "    return conn, cur"
   ]
  },
  {
   "cell_type": "code",
   "execution_count": 7,
   "metadata": {},
   "outputs": [
    {
     "name": "stdout",
     "output_type": "stream",
     "text": [
      "{\"timestamp\": \"2022-08-25 10:33:34,052\", \"processo\": \"MainProcess\", \"thread\": \"MainThread\",\"level\": \"INFO\", \"script\": \"2023394076.py\", \"modulo\": \"2023394076\", \"metodo\": \"connect_db\",  \"mensagem\": \"Conectando ao banco de dados\"}\n",
      "{\"timestamp\": \"2022-08-25 10:33:34,066\", \"processo\": \"MainProcess\", \"thread\": \"MainThread\",\"level\": \"INFO\", \"script\": \"2023394076.py\", \"modulo\": \"2023394076\", \"metodo\": \"connect_db\",  \"mensagem\": \"Conexão estabelecida\"}\n"
     ]
    }
   ],
   "source": [
    "LOGGER_OBJ = etlLogger(project_name='test')\n",
    "\n",
    "conn, cur = connect_db(LOGGER_OBJ)"
   ]
  },
  {
   "cell_type": "code",
   "execution_count": 8,
   "metadata": {},
   "outputs": [],
   "source": [
    "def return_datetime():\n",
    "    dt_today = datetime.now()\n",
    "    dt_tomorrow = datetime.now() + timedelta(days=1)\n",
    "    str_date_today = dt_today.strftime(\"%m-%d-%Y\")\n",
    "    str_date_tomorrow = dt_tomorrow.strftime(\"%m-%d-%Y\")\n",
    "\n",
    "    return str_date_today, str_date_tomorrow"
   ]
  },
  {
   "cell_type": "code",
   "execution_count": 9,
   "metadata": {},
   "outputs": [],
   "source": [
    "def get_urls():\n",
    "    cities, itens = cities_and_itens()\n",
    "    dt_today, dt_tomorrow = return_datetime()\n",
    "    dict_anchor = {'today': dt_today, 'tomorrow': dt_tomorrow, 'itens': itens, 'cities': cities}\n",
    "    cred = read_yaml(\"config/config.yaml\")\n",
    "    list_urls = [cred['URLS']['URL_GOLD'], cred['URLS']['URL_ITEM']]\n",
    "    new_urls = []\n",
    "    for url in list_urls:\n",
    "        for word, replacement in dict_anchor.items():\n",
    "            url = re.sub(word, replacement, url)\n",
    "        new_urls.append(url)\n",
    "    \n",
    "    return new_urls"
   ]
  },
  {
   "cell_type": "code",
   "execution_count": 10,
   "metadata": {},
   "outputs": [],
   "source": [
    "new_urls = get_urls()"
   ]
  },
  {
   "cell_type": "code",
   "execution_count": 11,
   "metadata": {},
   "outputs": [
    {
     "data": {
      "text/plain": [
       "['https://www.albion-online-data.com/api/v2/stats/gold?date=08-25-2022&end_date=08-26-2022',\n",
       " 'https://www.albion-online-data.com/api/v2/stats/history/T4_POTION_HEAL,T6_POTION_HEAL,T7_POTION_STONESKIN,T4_POTION_COOLDOWN,T6_POTION_COOLDOWN,T4_POTION_HEAL@1,T6_POTION_HEAL@1,T7_POTION_STONESKIN@1,T4_POTION_COOLDOWN@1,T6_POTION_COOLDOWN@1?date=08-25-2022&end_date=08-26-2022&locations=Bridgewatch,Caerleon,Lymhurst,Martlock,Thetford&qualities=1,2,3&time-scale=6']"
      ]
     },
     "execution_count": 11,
     "metadata": {},
     "output_type": "execute_result"
    }
   ],
   "source": [
    "new_urls"
   ]
  }
 ],
 "metadata": {
  "kernelspec": {
   "display_name": "Python 3.10.4 ('.pyenv': venv)",
   "language": "python",
   "name": "python3"
  },
  "language_info": {
   "codemirror_mode": {
    "name": "ipython",
    "version": 3
   },
   "file_extension": ".py",
   "mimetype": "text/x-python",
   "name": "python",
   "nbconvert_exporter": "python",
   "pygments_lexer": "ipython3",
   "version": "3.10.4"
  },
  "orig_nbformat": 4,
  "vscode": {
   "interpreter": {
    "hash": "57106f55f089d0ef42f32c2f68230fd7dda390989eba66b469f373f59c033607"
   }
  }
 },
 "nbformat": 4,
 "nbformat_minor": 2
}
